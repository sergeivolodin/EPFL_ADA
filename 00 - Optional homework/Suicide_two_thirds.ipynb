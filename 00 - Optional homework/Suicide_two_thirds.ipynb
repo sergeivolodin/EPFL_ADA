{
 "cells": [
  {
   "cell_type": "code",
   "execution_count": 24,
   "metadata": {},
   "outputs": [],
   "source": [
    "import csv"
   ]
  },
  {
   "cell_type": "code",
   "execution_count": 25,
   "metadata": {},
   "outputs": [],
   "source": [
    "ns = 'None selected'\n",
    "sui = 'Suicide'"
   ]
  },
  {
   "cell_type": "code",
   "execution_count": 26,
   "metadata": {},
   "outputs": [],
   "source": [
    "with open('guns-data/interactive_data.csv', 'r') as csvfile:\n",
    "    reader = csv.reader(csvfile, delimiter = ',')\n",
    "    for i, row in enumerate(reader):\n",
    "        if i == 0:\n",
    "            header = row\n",
    "            #header_inv = {y : x for x, y in enumerate(header)}\n",
    "        else:\n",
    "            row_dict = {header[i] : val for i, val in enumerate(row)}\n",
    "            if row_dict['Intent'] == ns  and row_dict['Gender'] == ns \\\n",
    "              and row_dict['Age'] == ns  and row_dict['Race'] == ns:\n",
    "                row_all = row_dict\n",
    "            if row_dict['Intent'] == sui and row_dict['Gender'] == ns \\\n",
    "              and row_dict['Age'] == ns  and row_dict['Race'] == ns:\n",
    "                row_sui = row_dict"
   ]
  },
  {
   "cell_type": "code",
   "execution_count": 27,
   "metadata": {},
   "outputs": [
    {
     "data": {
      "text/plain": [
       "{'': '1',\n",
       " 'Age': 'None selected',\n",
       " 'Deaths': '33599',\n",
       " 'Gender': 'None selected',\n",
       " 'Intent': 'None selected',\n",
       " 'Population': '316299978',\n",
       " 'Race': 'None selected',\n",
       " 'Rate': '10.6'}"
      ]
     },
     "execution_count": 27,
     "metadata": {},
     "output_type": "execute_result"
    }
   ],
   "source": [
    "row_all"
   ]
  },
  {
   "cell_type": "code",
   "execution_count": 28,
   "metadata": {},
   "outputs": [],
   "source": [
    "d_all, d_sui = [int(x['Deaths']) for x in [row_all, row_sui]]"
   ]
  },
  {
   "cell_type": "code",
   "execution_count": 29,
   "metadata": {},
   "outputs": [
    {
     "name": "stdout",
     "output_type": "stream",
     "text": [
      "Suicide is 62% of total deaths (21058 of 33599), and 2/3 is 66%\n"
     ]
    }
   ],
   "source": [
    "print(\"Suicide is %d%% of total deaths (%d of %d), and 2/3 is %d%%\" % (100. * d_sui / d_all, d_sui, d_all, 100 * 2. / 3))"
   ]
  },
  {
   "cell_type": "markdown",
   "metadata": {},
   "source": [
    "**Result:** nearly $\\frac{2}{3}$ of all gunshot deaths are suicides"
   ]
  },
  {
   "cell_type": "code",
   "execution_count": null,
   "metadata": {},
   "outputs": [],
   "source": []
  }
 ],
 "metadata": {
  "kernelspec": {
   "display_name": "Python [default]",
   "language": "python",
   "name": "python3"
  },
  "language_info": {
   "codemirror_mode": {
    "name": "ipython",
    "version": 3
   },
   "file_extension": ".py",
   "mimetype": "text/x-python",
   "name": "python",
   "nbconvert_exporter": "python",
   "pygments_lexer": "ipython3",
   "version": "3.5.4"
  }
 },
 "nbformat": 4,
 "nbformat_minor": 2
}
